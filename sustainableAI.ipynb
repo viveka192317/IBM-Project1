{
  "nbformat": 4,
  "nbformat_minor": 0,
  "metadata": {
    "colab": {
      "provenance": [],
      "gpuType": "T4"
    },
    "kernelspec": {
      "name": "python3",
      "display_name": "Python 3"
    },
    "language_info": {
      "name": "python"
    },
    "accelerator": "GPU"
  },
  "cells": [
    {
      "cell_type": "code",
      "execution_count": 1,
      "metadata": {
        "colab": {
          "base_uri": "https://localhost:8080/"
        },
        "id": "oYy7y3B0xsVX",
        "outputId": "196af951-4da2-4130-a916-45fefa370578"
      },
      "outputs": [
        {
          "output_type": "stream",
          "name": "stdout",
          "text": [
            "\u001b[?25l   \u001b[90m━━━━━━━━━━━━━━━━━━━━━━━━━━━━━━━━━━━━━━━━\u001b[0m \u001b[32m0.0/232.6 kB\u001b[0m \u001b[31m?\u001b[0m eta \u001b[36m-:--:--\u001b[0m\r\u001b[2K   \u001b[91m━━━━━━━━━━━━━━━━━\u001b[0m\u001b[91m╸\u001b[0m\u001b[90m━━━━━━━━━━━━━━━━━━━━━━\u001b[0m \u001b[32m102.4/232.6 kB\u001b[0m \u001b[31m2.8 MB/s\u001b[0m eta \u001b[36m0:00:01\u001b[0m\r\u001b[2K   \u001b[90m━━━━━━━━━━━━━━━━━━━━━━━━━━━━━━━━━━━━━━━━\u001b[0m \u001b[32m232.6/232.6 kB\u001b[0m \u001b[31m3.8 MB/s\u001b[0m eta \u001b[36m0:00:00\u001b[0m\n",
            "\u001b[?25h"
          ]
        }
      ],
      "source": [
        "!pip install transformers torch gradio PyPDF2 -q\n",
        "\n",
        "\n"
      ]
    },
    {
      "cell_type": "code",
      "source": [
        "import gradio as gr\n",
        "import torch\n",
        "from transformers import AutoTokenizer, AutoModelForCausalLM\n",
        "import PyPDF2\n",
        "import io\n",
        "\n",
        "# Load model and tokenizer\n",
        "model_name = \"ibm-granite/granite-3.2-2b-instruct\"\n",
        "tokenizer = AutoTokenizer.from_pretrained(model_name)\n",
        "model = AutoModelForCausalLM.from_pretrained(\n",
        "    model_name,\n",
        "    torch_dtype=torch.float16 if torch.cuda.is_available() else torch.float32,\n",
        "    device_map=\"auto\" if torch.cuda.is_available() else None\n",
        ")\n",
        "\n",
        "if tokenizer.pad_token is None:\n",
        "    tokenizer.pad_token = tokenizer.eos_token\n",
        "\n",
        "def generate_response(prompt, max_length=1024):\n",
        "    inputs = tokenizer(prompt, return_tensors=\"pt\", truncation=True, max_length=512)\n",
        "\n",
        "    if torch.cuda.is_available():\n",
        "        inputs = {k: v.to(model.device) for k, v in inputs.items()}\n",
        "\n",
        "    with torch.no_grad():\n",
        "        outputs = model.generate(\n",
        "            **inputs,\n",
        "            max_length=max_length,\n",
        "            temperature=0.7,\n",
        "            do_sample=True,\n",
        "            pad_token_id=tokenizer.eos_token_id\n",
        "        )\n",
        "\n",
        "    response = tokenizer.decode(outputs[0], skip_special_tokens=True)\n",
        "    response = response.replace(prompt, \"\").strip()\n",
        "    return response\n",
        "\n",
        "def extract_text_from_pdf(pdf_file):\n",
        "    if pdf_file is None:\n",
        "        return \"\"\n",
        "\n",
        "    try:\n",
        "        pdf_reader = PyPDF2.PdfReader(pdf_file)\n",
        "        text = \"\"\n",
        "        for page in pdf_reader.pages:\n",
        "            text += page.extract_text() + \"\\n\"\n",
        "        return text\n",
        "    except Exception as e:\n",
        "        return f\"Error reading PDF: {str(e)}\"\n",
        "\n",
        "def eco_tips_generator(problem_keywords):\n",
        "    prompt = f\"Generate practical and actionable eco-friendly tips for sustainable living related to: {problem_keywords}. Provide specific solutions and suggestions:\"\n",
        "    return generate_response(prompt, max_length=1000)\n",
        "\n",
        "def policy_summarization(pdf_file, policy_text):\n",
        "    # Get text from PDF or direct input\n",
        "    if pdf_file is not None:\n",
        "        content = extract_text_from_pdf(pdf_file)\n",
        "        summary_prompt = f\"Summarize the following policy document and extract the most important points, key provisions, and implications:\\n\\n{content}\"\n",
        "    else:\n",
        "        summary_prompt = f\"Summarize the following policy document and extract the most important points, key provisions, and implications:\\n\\n{policy_text}\"\n",
        "\n",
        "    return generate_response(summary_prompt, max_length=1200)\n",
        "\n",
        "# Create Gradio interface\n",
        "with gr.Blocks() as app:\n",
        "    gr.Markdown(\"# Eco Assistant & Policy Analyzer\")\n",
        "\n",
        "    with gr.Tabs():\n",
        "        with gr.TabItem(\"Eco Tips Generator\"):\n",
        "            with gr.Row():\n",
        "                with gr.Column():\n",
        "                    keywords_input = gr.Textbox(\n",
        "                        label=\"Environmental Problem/Keywords\",\n",
        "                        placeholder=\"e.g., plastic, solar, water waste, energy saving...\",\n",
        "                        lines=3\n",
        "                    )\n",
        "                    generate_tips_btn = gr.Button(\"Generate Eco Tips\")\n",
        "\n",
        "                with gr.Column():\n",
        "                    tips_output = gr.Textbox(label=\"Sustainable Living Tips\", lines=15)\n",
        "\n",
        "            generate_tips_btn.click(eco_tips_generator, inputs=keywords_input, outputs=tips_output)\n",
        "\n",
        "        with gr.TabItem(\"Policy Summarization\"):\n",
        "            with gr.Row():\n",
        "                with gr.Column():\n",
        "                    pdf_upload = gr.File(label=\"Upload Policy PDF\", file_types=[\".pdf\"])\n",
        "                    policy_text_input = gr.Textbox(\n",
        "                        label=\"Or paste policy text here\",\n",
        "                        placeholder=\"Paste policy document text...\",\n",
        "                        lines=5\n",
        "                    )\n",
        "                    summarize_btn = gr.Button(\"Summarize Policy\")\n",
        "\n",
        "                with gr.Column():\n",
        "                    summary_output = gr.Textbox(label=\"Policy Summary & Key Points\", lines=20)\n",
        "\n",
        "            summarize_btn.click(policy_summarization, inputs=[pdf_upload, policy_text_input], outputs=summary_output)\n",
        "\n",
        "app.launch(share=True)\n"
      ],
      "metadata": {
        "id": "dynQ_ETDx-WD"
      },
      "execution_count": null,
      "outputs": []
    }
  ]
}